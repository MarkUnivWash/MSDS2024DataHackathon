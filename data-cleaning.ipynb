{
 "cells": [
  {
   "cell_type": "code",
   "execution_count": 18,
   "metadata": {},
   "outputs": [
    {
     "name": "stdout",
     "output_type": "stream",
     "text": [
      "Failed to retrieve data for 2024-01-01 to 2024-01-31: 429\n",
      "Failed to retrieve data for 2024-02-01 to 2024-02-29: 429\n"
     ]
    },
    {
     "ename": "KeyboardInterrupt",
     "evalue": "",
     "output_type": "error",
     "traceback": [
      "\u001b[0;31m---------------------------------------------------------------------------\u001b[0m",
      "\u001b[0;31mKeyboardInterrupt\u001b[0m                         Traceback (most recent call last)",
      "Cell \u001b[0;32mIn[18], line 89\u001b[0m\n\u001b[1;32m     86\u001b[0m         \u001b[38;5;28mprint\u001b[39m(\u001b[38;5;124mf\u001b[39m\u001b[38;5;124m\"\u001b[39m\u001b[38;5;124mFailed to retrieve data for \u001b[39m\u001b[38;5;132;01m{\u001b[39;00mstart_date\u001b[38;5;132;01m}\u001b[39;00m\u001b[38;5;124m to \u001b[39m\u001b[38;5;132;01m{\u001b[39;00mend_date\u001b[38;5;132;01m}\u001b[39;00m\u001b[38;5;124m: \u001b[39m\u001b[38;5;132;01m{\u001b[39;00mresponse\u001b[38;5;241m.\u001b[39mstatus_code\u001b[38;5;132;01m}\u001b[39;00m\u001b[38;5;124m\"\u001b[39m)\n\u001b[1;32m     88\u001b[0m     \u001b[38;5;66;03m# Delay between requests\u001b[39;00m\n\u001b[0;32m---> 89\u001b[0m     \u001b[43mtime\u001b[49m\u001b[38;5;241;43m.\u001b[39;49m\u001b[43msleep\u001b[49m\u001b[43m(\u001b[49m\u001b[38;5;241;43m5\u001b[39;49m\u001b[43m)\u001b[49m  \u001b[38;5;66;03m# Sleep for 5 seconds\u001b[39;00m\n\u001b[1;32m     91\u001b[0m \u001b[38;5;66;03m# Concatenate all monthly dataframes for the current year\u001b[39;00m\n\u001b[1;32m     92\u001b[0m \u001b[38;5;28;01mif\u001b[39;00m dataframes:\n",
      "\u001b[0;31mKeyboardInterrupt\u001b[0m: "
     ]
    }
   ],
   "source": [
    "import requests\n",
    "import pandas as pd\n",
    "import time\n",
    "import calendar  # Import the calendar module\n",
    "\n",
    "# Base URL and API key\n",
    "base_url = \"https://api.weatherbit.io/v2.0/history/hourly\"\n",
    "api_key = \"75160ed1474f4a8896de726521bdcefe\"\n",
    "\n",
    "# Define the latitude and longitude\n",
    "lat = \"47.65\"\n",
    "lon = \"-122.30\"\n",
    "\n",
    "# Months and years to query\n",
    "months = range(1, 13)  # All months (1-12)\n",
    "years = range(2024, 2025)  # From 2022 to 2023 for the example\n",
    "\n",
    "# Loop over each year and month\n",
    "for year in years:\n",
    "    dataframes = []  # List to collect each month's DataFrame for the current year\n",
    "    for month in months:\n",
    "        # Use the calendar module to find the last day of the month\n",
    "        last_day = calendar.monthrange(year, month)[1]\n",
    "        start_date = f\"{year}-{month:02d}-01\"\n",
    "        end_date = f\"{year}-{month:02d}-{last_day}\"\n",
    "        \n",
    "        # Construct URL with parameters\n",
    "        url = f\"{base_url}?lat={lat}&lon={lon}&start_date={start_date}%3A00&end_date={end_date}%3A00&tz=local&key={api_key}\"\n",
    "        response = requests.get(url)\n",
    "        \n",
    "        if response.status_code == 200:\n",
    "            data = response.json()\n",
    "            if 'data' in data:\n",
    "                df = pd.DataFrame(data['data'])\n",
    "                dataframes.append(df)\n",
    "                print(f\"Data collected for {start_date} to {end_date}\")\n",
    "        else:\n",
    "            print(f\"Failed to retrieve data for {start_date} to {end_date}: {response.status_code}\")\n",
    "\n",
    "        # Delay between requests\n",
    "        time.sleep(5)  # Sleep for 5 seconds\n",
    "\n",
    "    # Concatenate all monthly dataframes for the current year\n",
    "    if dataframes:\n",
    "        combined_df = pd.concat(dataframes, ignore_index=True)\n",
    "        combined_df.to_csv(f'weather_data_{year}.csv', index=False)\n",
    "        print(f\"Data for the year {year} saved successfully.\")\n",
    "\n",
    "# Now merge all yearly data files into a single DataFrame\n",
    "all_years_data = []\n",
    "for year in years:\n",
    "    df = pd.read_csv(f'weather_data_{year}.csv')\n",
    "    all_years_data.append(df)\n",
    "\n",
    "final_df = pd.concat(all_years_data, ignore_index=True)\n",
    "final_df.to_csv('weather_data_all_years.csv', index=False)\n",
    "print(\"All years merged into one file 'weather_data_all_years.csv'.\")\n",
    "\n",
    "\n"
   ]
  },
  {
   "cell_type": "code",
   "execution_count": 17,
   "metadata": {},
   "outputs": [
    {
     "name": "stdout",
     "output_type": "stream",
     "text": [
      "Data collected, cleaned, and saved to 'weather_data_2013_to_2023_cleaned.csv'.\n"
     ]
    },
    {
     "name": "stderr",
     "output_type": "stream",
     "text": [
      "/var/folders/cq/syt8sl2j3hd_7zb95ds5xmmh0000gn/T/ipykernel_14546/2396404256.py:37: SettingWithCopyWarning: \n",
      "A value is trying to be set on a copy of a slice from a DataFrame.\n",
      "Try using .loc[row_indexer,col_indexer] = value instead\n",
      "\n",
      "See the caveats in the documentation: https://pandas.pydata.org/pandas-docs/stable/user_guide/indexing.html#returning-a-view-versus-a-copy\n",
      "  df[numerical_cols] = df[numerical_cols].round(2)\n"
     ]
    }
   ],
   "source": [
    "import pandas as pd\n",
    "\n",
    "file_path = 'QUAD_RAW.csv'\n",
    "\n",
    "# Read the CSV file into a DataFrame\n",
    "df = pd.read_csv(file_path)\n",
    "\n",
    "def clean_and_convert(df):\n",
    "    # Date and time transformation\n",
    "    df['date'] = pd.to_datetime(df['timestamp_local']).dt.date\n",
    "    df['time'] = pd.to_datetime(df['timestamp_local']).dt.time\n",
    "\n",
    "    # Rename columns\n",
    "    df.rename(columns={\n",
    "        'clouds': 'Cloud Coverage (%)',\n",
    "        'temp': 'Temperature (Celcius)',\n",
    "        'wind_spd': 'Wind speed (m/s)',\n",
    "        'precip': 'rain (mm)',\n",
    "        'rh': 'relative humidity (%)',\n",
    "        'vis': 'visibility (km)'\n",
    "    }, inplace=True)\n",
    "\n",
    "    # Convert units\n",
    "    df['Temperature (Fahrenheit)'] = df['Temperature (Celcius)'] * 9/5 + 32\n",
    "    df['Wind speed (mph)'] = df['Wind speed (m/s)'] * 2.237\n",
    "    df['rain (inches)'] = df['rain (mm)'] * 0.0393701\n",
    "    df['visibility (miles)'] = df['visibility (km)'] * 0.621371\n",
    "\n",
    "    df.fillna(0, inplace=True)\n",
    "\n",
    "    # Select and keep only the necessary columns\n",
    "    df = df[['date', 'time', 'Cloud Coverage (%)', 'Temperature (Fahrenheit)', 'Wind speed (mph)',\n",
    "             'rain (inches)', 'relative humidity (%)', 'visibility (miles)']]\n",
    "    \n",
    "    numerical_cols = ['Cloud Coverage (%)', 'Temperature (Fahrenheit)', 'Wind speed (mph)',\n",
    "                      'rain (inches)', 'relative humidity (%)', 'visibility (miles)']\n",
    "    df[numerical_cols] = df[numerical_cols].round(2)\n",
    "\n",
    "    return df\n",
    "\n",
    "\n",
    "# Clean and convert the combined data\n",
    "cleaned_df = clean_and_convert(df)\n",
    "\n",
    "# Export to CSV\n",
    "cleaned_df.to_csv('weather_data_2013_to_2023_cleaned.csv', index=False)\n",
    "\n",
    "print(\"Data collected, cleaned, and saved to 'weather_data_2013_to_2023_cleaned.csv'.\")\n"
   ]
  }
 ],
 "metadata": {
  "kernelspec": {
   "display_name": "Python 3",
   "language": "python",
   "name": "python3"
  },
  "language_info": {
   "codemirror_mode": {
    "name": "ipython",
    "version": 3
   },
   "file_extension": ".py",
   "mimetype": "text/x-python",
   "name": "python",
   "nbconvert_exporter": "python",
   "pygments_lexer": "ipython3",
   "version": "3.9.6"
  }
 },
 "nbformat": 4,
 "nbformat_minor": 2
}
