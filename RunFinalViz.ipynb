{
 "cells": [
  {
   "cell_type": "code",
   "execution_count": 35,
   "id": "780cf81f-3c00-46f6-be23-40b92f9f8947",
   "metadata": {},
   "outputs": [],
   "source": [
    "import pandas as pd"
   ]
  },
  {
   "cell_type": "code",
   "execution_count": 36,
   "id": "5f131fc6-19a0-43a4-841d-ba7dd4494c3d",
   "metadata": {},
   "outputs": [],
   "source": [
    "df=pd.read_csv('weather_data_2025_cleaned.csv')"
   ]
  },
  {
   "cell_type": "code",
   "execution_count": 37,
   "id": "02f6ffab-3d04-428a-b3ba-5328102d9510",
   "metadata": {},
   "outputs": [
    {
     "data": {
      "text/plain": [
       "Index(['date', 'time', 'Cloud Coverage (%)', 'Temperature (Fahrenheit)',\n",
       "       'Wind speed (mph)', 'rain (inches)', 'relative humidity (%)',\n",
       "       'visibility (miles)', 'cherry'],\n",
       "      dtype='object')"
      ]
     },
     "execution_count": 37,
     "metadata": {},
     "output_type": "execute_result"
    }
   ],
   "source": [
    "df.columns"
   ]
  },
  {
   "cell_type": "code",
   "execution_count": 38,
   "id": "2b2cad48-0978-4ed6-9cd4-f01de8f7bf59",
   "metadata": {},
   "outputs": [
    {
     "name": "stdout",
     "output_type": "stream",
     "text": [
      "         date      time  Cloud Coverage (%)  Temperature (Fahrenheit)  \\\n",
      "0      1/1/24   0:00:00                  64                     38.30   \n",
      "1      1/1/24   1:00:00                  53                     37.22   \n",
      "2      1/1/24   2:00:00                  61                     36.32   \n",
      "3      1/1/24   3:00:00                  78                     37.04   \n",
      "4      1/1/24   4:00:00                  79                     36.32   \n",
      "...       ...       ...                 ...                       ...   \n",
      "2802  4/29/24  19:00:00                  81                     47.48   \n",
      "2803  4/29/24  20:00:00                  99                     46.40   \n",
      "2804  4/29/24  21:00:00                  85                     45.50   \n",
      "2805  4/29/24  22:00:00                  64                     43.70   \n",
      "2806  4/29/24  23:00:00                  80                     42.80   \n",
      "\n",
      "      Wind speed (mph)  rain (inches)  relative humidity (%)  \\\n",
      "0                 1.99           0.00                     95   \n",
      "1                 0.18           0.00                     93   \n",
      "2                 2.68           0.00                     94   \n",
      "3                 1.57           0.00                     92   \n",
      "4                 1.43           0.00                     96   \n",
      "...                ...            ...                    ...   \n",
      "2802              2.30           0.02                     74   \n",
      "2803              1.45           0.00                     82   \n",
      "2804              0.04           0.00                     84   \n",
      "2805              7.16           0.00                     88   \n",
      "2806              2.55           0.00                     87   \n",
      "\n",
      "      visibility (miles)  cherry  day_rating  \n",
      "0                   9.94       0          48  \n",
      "1                   9.94       0          48  \n",
      "2                   6.21       0          48  \n",
      "3                   6.21       0          48  \n",
      "4                   6.21       0          48  \n",
      "...                  ...     ...         ...  \n",
      "2802                9.94       0          48  \n",
      "2803                9.94       0          48  \n",
      "2804                9.94       0          48  \n",
      "2805                9.94       0          40  \n",
      "2806                9.94       0          48  \n",
      "\n",
      "[2807 rows x 10 columns]\n"
     ]
    }
   ],
   "source": [
    "df['day_rating'] = 0\n",
    "\n",
    "# Assign points based on temperature\n",
    "df.loc[(df['Temperature (Fahrenheit)'] >= 50) & (df['Temperature (Fahrenheit)'] <= 90), 'day_rating'] += 15\n",
    "df.loc[(df['Temperature (Fahrenheit)'] < 50) | (df['Temperature (Fahrenheit)'] > 90), 'day_rating'] += 7\n",
    "\n",
    "# Assign points based on wind speed\n",
    "df.loc[df['Wind speed (mph)'] < 5, 'day_rating'] += 15\n",
    "df.loc[(df['Wind speed (mph)'] >= 5) & (df['Wind speed (mph)'] < 10), 'day_rating'] += 7\n",
    "df.loc[df['Wind speed (mph)'] >= 10, 'day_rating'] += 1\n",
    "\n",
    "# Assign points based on rain\n",
    "df.loc[df['rain (inches)'] < 1, 'day_rating'] += 15\n",
    "df.loc[(df['rain (inches)'] >= 1) & (df['rain (inches)'] < 3), 'day_rating'] += 7\n",
    "df.loc[df['rain (inches)'] >= 3, 'day_rating'] += 1\n",
    "\n",
    "# Assign points based on cloud coverage\n",
    "df.loc[df['Cloud Coverage (%)'] < 20, 'day_rating'] += 5\n",
    "df.loc[(df['Cloud Coverage (%)'] >= 20) & (df['Cloud Coverage (%)'] < 50), 'day_rating'] += 2\n",
    "df.loc[df['Cloud Coverage (%)'] >= 50, 'day_rating'] += 1\n",
    "\n",
    "# Assign points based on relative humidity\n",
    "df.loc[df['relative humidity (%)'] < 50, 'day_rating'] += 2\n",
    "\n",
    "# Assign points based on visibility\n",
    "df.loc[df['visibility (miles)'] < 3, 'day_rating'] += 0\n",
    "df.loc[df['visibility (miles)'] >= 3, 'day_rating'] += 10\n",
    "df.loc[df['cherry'] == 1, 'day_rating'] += 35\n",
    "\n",
    "# Print the DataFrame to verify the changes\n",
    "print(df)"
   ]
  },
  {
   "cell_type": "code",
   "execution_count": 39,
   "id": "f24be595-7a32-4781-8352-da21e29193db",
   "metadata": {},
   "outputs": [
    {
     "data": {
      "image/png": "[encoded data removed]",
      "text/plain": [
       "<Figure size 720x432 with 1 Axes>"
      ]
     },
     "metadata": {},
     "output_type": "display_data"
    }
   ],
   "source": [
    "import pandas as pd\n",
    "import seaborn as sns\n",
    "import matplotlib.pyplot as plt\n",
    "\n",
    "# Assuming your DataFrame is called df\n",
    "# Convert 'date' column to datetime format\n",
    "df['date'] = pd.to_datetime(df['date'], format='%m/%d/%y')\n",
    "\n",
    "# Filter data for March\n",
    "march_data = df[df['date'].dt.month == 3]\n",
    "\n",
    "# Group by day and calculate the mean score for each day\n",
    "daily_scores = march_data.groupby(march_data['date'].dt.day)['day_rating'].mean().reset_index()\n",
    "\n",
    "# Plot the bar chart\n",
    "plt.figure(figsize=(10, 6))\n",
    "sns.barplot(data=daily_scores, x='date', y='day_rating', color='skyblue')\n",
    "plt.xlabel('Day in March')\n",
    "plt.ylabel('Day Rating')\n",
    "plt.title('Day Rating in March')\n",
    "plt.xticks(rotation=45)\n",
    "plt.tight_layout()\n",
    "plt.show()\n"
   ]
  },
  {
   "cell_type": "code",
   "execution_count": 40,
   "id": "6a59e896-69c3-4008-8e65-6af2ea107c3e",
   "metadata": {},
   "outputs": [
    {
     "name": "stdout",
     "output_type": "stream",
     "text": [
      "Hour(s) with the highest day score on March 17th:\n",
      "time          12:00:00\n",
      "day_rating        92.0\n",
      "Name: 3, dtype: object\n"
     ]
    }
   ],
   "source": [
    "# Filter data for March 17th\n",
    "march_17_data = df[(df['date'].dt.month == 3) & (df['date'].dt.day == 21)]\n",
    "\n",
    "# Group by hour and calculate the mean score for each hour\n",
    "hourly_scores = march_17_data.groupby(march_17_data['time'])['day_rating'].mean().reset_index()\n",
    "\n",
    "# Find the hour(s) with the highest day score\n",
    "max_hour = hourly_scores.loc[hourly_scores['day_rating'].idxmax()]\n",
    "\n",
    "print(\"Hour(s) with the highest day score on March 17th:\")\n",
    "print(max_hour)\n"
   ]
  },
  {
   "cell_type": "code",
   "execution_count": null,
   "id": "c1ca388d-96a8-4511-8b1a-3c88c90af487",
   "metadata": {},
   "outputs": [],
   "source": []
  }
 ],
 "metadata": {
  "kernelspec": {
   "display_name": "Python 3 (ipykernel)",
   "language": "python",
   "name": "python3"
  },
  "language_info": {
   "codemirror_mode": {
    "name": "ipython",
    "version": 3
   },
   "file_extension": ".py",
   "mimetype": "text/x-python",
   "name": "python",
   "nbconvert_exporter": "python",
   "pygments_lexer": "ipython3",
   "version": "3.9.6"
  }
 },
 "nbformat": 4,
 "nbformat_minor": 5
}
